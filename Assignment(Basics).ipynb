{
 "cells": [
  {
   "cell_type": "markdown",
   "id": "e4a7538a",
   "metadata": {},
   "source": [
    "# Assignment"
   ]
  },
  {
   "cell_type": "code",
   "execution_count": 32,
   "id": "1921a41d",
   "metadata": {},
   "outputs": [
    {
     "data": {
      "text/plain": [
       "2401"
      ]
     },
     "execution_count": 32,
     "metadata": {},
     "output_type": "execute_result"
    }
   ],
   "source": [
    "7**4"
   ]
  },
  {
   "cell_type": "markdown",
   "id": "9c51f726",
   "metadata": {},
   "source": [
    "** Split this string:**\n",
    "\n",
    "s = \"Hi there Yogesh!\"\n",
    "**into a list. **"
   ]
  },
  {
   "cell_type": "code",
   "execution_count": 33,
   "id": "ad7fcd09",
   "metadata": {},
   "outputs": [],
   "source": [
    "s = \"Hi there Yogesh!\""
   ]
  },
  {
   "cell_type": "code",
   "execution_count": 35,
   "id": "a7a270a1",
   "metadata": {},
   "outputs": [
    {
     "data": {
      "text/plain": [
       "['Hi', 'there', 'Yogesh!']"
      ]
     },
     "execution_count": 35,
     "metadata": {},
     "output_type": "execute_result"
    }
   ],
   "source": [
    "s.split(sep=' ', maxsplit=-1)"
   ]
  },
  {
   "cell_type": "markdown",
   "id": "c877e2df",
   "metadata": {},
   "source": [
    "** Given the variables:**\n",
    "\n",
    "planet = \"Earth\"\n",
    "diameter = 12742\n",
    "** Use .format() to print the following string: **\n",
    "\n",
    "The diameter of Earth is 12742 kilometers."
   ]
  },
  {
   "cell_type": "code",
   "execution_count": 36,
   "id": "8d5dd048",
   "metadata": {},
   "outputs": [],
   "source": [
    "planet = \"Earth\"\n",
    "diameter = 12742"
   ]
  },
  {
   "cell_type": "code",
   "execution_count": 38,
   "id": "1b622b3d",
   "metadata": {},
   "outputs": [
    {
     "data": {
      "text/plain": [
       "'The diameter of Earth is 12742 kilometers'"
      ]
     },
     "execution_count": 38,
     "metadata": {},
     "output_type": "execute_result"
    }
   ],
   "source": [
    "'The diameter of {} is {} kilometers'.format(planet,diameter)"
   ]
  },
  {
   "cell_type": "markdown",
   "id": "80cab133",
   "metadata": {},
   "source": [
    "** Given this nested list, use indexing to grab the word \"hello\" **"
   ]
  },
  {
   "cell_type": "code",
   "execution_count": 39,
   "id": "ca78af97",
   "metadata": {},
   "outputs": [],
   "source": [
    "lst = [1,2,[3,4],[5,[100,200,['hello']],23,11],1,7]"
   ]
  },
  {
   "cell_type": "code",
   "execution_count": 40,
   "id": "dc8246fb",
   "metadata": {},
   "outputs": [
    {
     "data": {
      "text/plain": [
       "'hello'"
      ]
     },
     "execution_count": 40,
     "metadata": {},
     "output_type": "execute_result"
    }
   ],
   "source": [
    "lst[3][1][2][0]"
   ]
  },
  {
   "cell_type": "markdown",
   "id": "68738299",
   "metadata": {},
   "source": [
    "** Given this nested dictionary grab the word \"hello\". Be prepared, this will be annoying/tricky **"
   ]
  },
  {
   "cell_type": "code",
   "execution_count": 41,
   "id": "ad097713",
   "metadata": {},
   "outputs": [],
   "source": [
    "d = {'k1':[1,2,3,{'tricky':['oh','man','inception',{'target':[1,2,3,'hello']}]}]}"
   ]
  },
  {
   "cell_type": "code",
   "execution_count": 48,
   "id": "e4093732",
   "metadata": {},
   "outputs": [
    {
     "data": {
      "text/plain": [
       "'hello'"
      ]
     },
     "execution_count": 48,
     "metadata": {},
     "output_type": "execute_result"
    }
   ],
   "source": [
    "d['k1'][3]['tricky'][3]['target'][3]"
   ]
  },
  {
   "cell_type": "markdown",
   "id": "de7c7c4b",
   "metadata": {},
   "source": [
    "** Create a function that grabs the email website domain from a string in the form: **\n",
    "\n",
    "user@domain.com\n",
    "So for example, passing \"user@domain.com\" would return: domain.com"
   ]
  },
  {
   "cell_type": "code",
   "execution_count": 49,
   "id": "017f0303",
   "metadata": {},
   "outputs": [],
   "source": [
    "data='user@domain.com'"
   ]
  },
  {
   "cell_type": "code",
   "execution_count": 1,
   "id": "6b4fad56",
   "metadata": {},
   "outputs": [],
   "source": [
    "def domain_name(f):\n",
    "    print(f.split('@')[1])"
   ]
  },
  {
   "cell_type": "code",
   "execution_count": 3,
   "id": "14aa34b9",
   "metadata": {},
   "outputs": [
    {
     "name": "stdout",
     "output_type": "stream",
     "text": [
      "gmail.com\n"
     ]
    }
   ],
   "source": [
    "domain_name('cemorkhade@gmail.com')"
   ]
  },
  {
   "cell_type": "markdown",
   "id": "0eddac75",
   "metadata": {},
   "source": [
    "** Create a basic function that returns True if the word 'dog' is contained in the input string. Don't worry about edge cases like a punctuation being attached to the word dog, but do account for capitalization. **"
   ]
  },
  {
   "cell_type": "code",
   "execution_count": 9,
   "id": "31e9e212",
   "metadata": {},
   "outputs": [
    {
     "data": {
      "text/plain": [
       "True"
      ]
     },
     "execution_count": 9,
     "metadata": {},
     "output_type": "execute_result"
    }
   ],
   "source": [
    "\n",
    "    def find_dog(n):\n",
    "        return 'dog'in n.lower().split()\n",
    "    find_dog('Is there a dog here?')\n"
   ]
  },
  {
   "cell_type": "markdown",
   "id": "4039fc6f",
   "metadata": {},
   "source": [
    "** Create a function that counts the number of times the word \"dog\" occurs in a string. Again ignore edge cases. **\n",
    "\n",
    "​"
   ]
  },
  {
   "cell_type": "code",
   "execution_count": 5,
   "id": "65b02063",
   "metadata": {},
   "outputs": [],
   "source": [
    "countDog='This dog runs faster than the other dog dude!'"
   ]
  },
  {
   "cell_type": "code",
   "execution_count": 10,
   "id": "a8aa741f",
   "metadata": {},
   "outputs": [],
   "source": [
    "def countDog(s):\n",
    "    c=0\n",
    "    for d in s.lower().split():   \n",
    "        if d==\"dog\":\n",
    "            c=c+1\n",
    "    print(c)"
   ]
  },
  {
   "cell_type": "code",
   "execution_count": 23,
   "id": "fba12223",
   "metadata": {},
   "outputs": [
    {
     "name": "stdout",
     "output_type": "stream",
     "text": [
      "2\n"
     ]
    }
   ],
   "source": [
    "countDog('dog is big DOG')"
   ]
  },
  {
   "cell_type": "markdown",
   "id": "1d325914",
   "metadata": {},
   "source": [
    "** Use lambda expressions and the filter() function to filter out words from a list that don't start with the letter 's'. For example:**\n",
    "\n",
    "seq = ['soup','dog','salad','cat','great']\n",
    "should be filtered down to:\n",
    "\n",
    "['soup','salad']"
   ]
  },
  {
   "cell_type": "code",
   "execution_count": 13,
   "id": "a57ace2f",
   "metadata": {},
   "outputs": [],
   "source": [
    "seq = ['soup','dog','salad','cat','great']"
   ]
  },
  {
   "cell_type": "code",
   "execution_count": 15,
   "id": "c8f39cb0",
   "metadata": {},
   "outputs": [
    {
     "data": {
      "text/plain": [
       "['soup', 'salad']"
      ]
     },
     "execution_count": 15,
     "metadata": {},
     "output_type": "execute_result"
    }
   ],
   "source": [
    "list(filter(lambda x:x[0]=='s',seq))"
   ]
  },
  {
   "cell_type": "markdown",
   "id": "320d5087",
   "metadata": {},
   "source": [
    "above que without lambda function"
   ]
  },
  {
   "cell_type": "code",
   "execution_count": 83,
   "id": "ca9c328d",
   "metadata": {},
   "outputs": [],
   "source": [
    "def find_words(s):\n",
    "    for w in seq:\n",
    "        if w[0]=='s':\n",
    "            print(w,end=' ')"
   ]
  },
  {
   "cell_type": "code",
   "execution_count": 84,
   "id": "b26371b3",
   "metadata": {},
   "outputs": [
    {
     "name": "stdout",
     "output_type": "stream",
     "text": [
      "soup salad "
     ]
    }
   ],
   "source": [
    "find_words(seq)"
   ]
  },
  {
   "cell_type": "markdown",
   "id": "069c1433",
   "metadata": {},
   "source": [
    "**You are driving a little too fast, and a police officer stops you. Write a function to return one of 3 possible results: \"No ticket\", \"Small ticket\", or \"Big Ticket\". If your speed is 60 or less, the result is \"No Ticket\". If speed is between 61 and 80 inclusive, the result is \"Small Ticket\". If speed is 81 or more, the result is \"Big Ticket\". Unless it is your birthday (encoded as a boolean value in the parameters of the function) -- on your birthday, your speed can be 5 higher in all cases. **"
   ]
  },
  {
   "cell_type": "code",
   "execution_count": 89,
   "id": "54214365",
   "metadata": {},
   "outputs": [],
   "source": [
    "def catch_speed(speed,birthday):\n",
    "    if birthday:\n",
    "        new_speed=speed-5\n",
    "    else:\n",
    "        new_speed=speed\n",
    "    if new_speed>80:\n",
    "        print(\"Big ticket\")\n",
    "    elif new_speed>60:\n",
    "        print(\"small ticket\")\n",
    "    else:\n",
    "        print(\"no ticket\")\n",
    "            "
   ]
  },
  {
   "cell_type": "code",
   "execution_count": 90,
   "id": "f23fb64b",
   "metadata": {},
   "outputs": [
    {
     "name": "stdout",
     "output_type": "stream",
     "text": [
      "small ticket\n"
     ]
    }
   ],
   "source": [
    "catch_speed(81,True)"
   ]
  },
  {
   "cell_type": "markdown",
   "id": "5cc6b860",
   "metadata": {},
   "source": [
    "Given a string print number num by extracting all the\n",
    "digits from the string as in string\n",
    "Print negative number if the first character in \n",
    "string is '-'\n",
    "eg.\n",
    "-123abcd should return -123,abcd456-->456,fdhfh78dsd89--->7889,-56dssd78-->-5678"
   ]
  },
  {
   "cell_type": "code",
   "execution_count": 17,
   "id": "6929ffac",
   "metadata": {},
   "outputs": [],
   "source": [
    "def print_int(c):\n",
    "    if c[0]=='-':\n",
    "        print('-',end='')\n",
    "    for v in c[::]:\n",
    "        if v.isdigit():\n",
    "            print(v,end='')"
   ]
  },
  {
   "cell_type": "code",
   "execution_count": 25,
   "id": "b4e1c82f",
   "metadata": {},
   "outputs": [
    {
     "name": "stdout",
     "output_type": "stream",
     "text": [
      "-44477"
     ]
    }
   ],
   "source": [
    "print_int('-444rr77')"
   ]
  },
  {
   "cell_type": "code",
   "execution_count": 1,
   "id": "b0c1a18a",
   "metadata": {},
   "outputs": [
    {
     "name": "stdout",
     "output_type": "stream",
     "text": [
      "ENter the input:yyyy55yy5/--\n",
      "555\n"
     ]
    }
   ],
   "source": [
    "s1=input(\"ENter the input:\")\n",
    "n=[0,1,2,3,4,5,6,7,8,9]\n",
    "d=''\n",
    "if s1[0]=='-':\n",
    "    d=d+s1[0]\n",
    "for v in s1:\n",
    "    if v in str(n):\n",
    "        d=d+v\n",
    "print(d)"
   ]
  },
  {
   "cell_type": "markdown",
   "id": "7feb704f",
   "metadata": {},
   "source": [
    "WAP to check whether a number is palindrome or not on following conditions.\n",
    "1. take input number\n",
    "2. add number and its reverse\n",
    "3. check that number is palindrome or not,if not then sum and its reverse"
   ]
  },
  {
   "cell_type": "code",
   "execution_count": 21,
   "id": "00a09ef1",
   "metadata": {},
   "outputs": [
    {
     "name": "stdout",
     "output_type": "stream",
     "text": [
      "Enter the number:55\n",
      "Number is: 121\n",
      "Reverse is: 121\n",
      "Palindrome is: 121\n"
     ]
    }
   ],
   "source": [
    "n1=input(\"Enter the number:\")\n",
    "n2=int(n1[::-1])\n",
    "n3=str(int(n1)+n2)\n",
    "while n3!=n3[::-1]:\n",
    "    n3=str(int(n3)+int(n3[::-1]))\n",
    "    print(\"Number is:\",n3)\n",
    "    print(\"Reverse is:\",n3[::-1])\n",
    "print(\"Palindrome is:\",n3)"
   ]
  },
  {
   "cell_type": "markdown",
   "id": "9307e0f6",
   "metadata": {},
   "source": [
    "Write a python function to find and display the five \n",
    "digit number in which the first digit is two more than \n",
    "the second,the second digit is two more than the third,\n",
    "the fourth digit is two less than the third, and the \n",
    "last digit is two more than\n",
    "the fourth.The sum of the third,fourth and fifth digits\n",
    "equals the first.The sum of all the digits is 19"
   ]
  },
  {
   "cell_type": "code",
   "execution_count": 19,
   "id": "6e0cfdce",
   "metadata": {},
   "outputs": [
    {
     "name": "stdout",
     "output_type": "stream",
     "text": [
      "75313\n"
     ]
    }
   ],
   "source": [
    "def find_five_digit_number():\n",
    "    for first in range(1, 10):\n",
    "        for second in range(0, 10):\n",
    "            for third in range(0, 10):\n",
    "                for fourth in range(0, 10):\n",
    "                    for fifth in range(0, 10):\n",
    "                        if (first == second + 2) and (second == third + 2) and (fourth == third - 2) and (fifth == fourth + 2) and (third + fourth + fifth == first) and (first + second + third + fourth + fifth == 19):\n",
    "                            return f\"{first}{second}{third}{fourth}{fifth}\"\n",
    "\n",
    "    return \"No such number found\"\n",
    "\n",
    "result = find_five_digit_number()\n",
    "print(result)"
   ]
  },
  {
   "cell_type": "code",
   "execution_count": null,
   "id": "829f3491",
   "metadata": {},
   "outputs": [],
   "source": []
  }
 ],
 "metadata": {
  "kernelspec": {
   "display_name": "Python 3 (ipykernel)",
   "language": "python",
   "name": "python3"
  },
  "language_info": {
   "codemirror_mode": {
    "name": "ipython",
    "version": 3
   },
   "file_extension": ".py",
   "mimetype": "text/x-python",
   "name": "python",
   "nbconvert_exporter": "python",
   "pygments_lexer": "ipython3",
   "version": "3.11.4"
  }
 },
 "nbformat": 4,
 "nbformat_minor": 5
}
